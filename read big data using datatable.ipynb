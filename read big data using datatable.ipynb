{
 "cells": [
  {
   "cell_type": "code",
   "execution_count": 12,
   "id": "7b8880d2",
   "metadata": {},
   "outputs": [
    {
     "name": "stdout",
     "output_type": "stream",
     "text": [
      "Collecting datatable\n",
      "  Downloading datatable-1.0.0-cp39-cp39-win_amd64.whl (4.0 MB)\n",
      "Installing collected packages: datatable\n",
      "Successfully installed datatable-1.0.0\n"
     ]
    }
   ],
   "source": [
    "!pip install datatable"
   ]
  },
  {
   "cell_type": "code",
   "execution_count": 13,
   "id": "35356b6b",
   "metadata": {},
   "outputs": [
    {
     "data": {
      "text/html": [
       "<style type='text/css'>\n",
       ".datatable table.frame { margin-bottom: 0; }\n",
       ".datatable table.frame thead { border-bottom: none; }\n",
       ".datatable table.frame tr.coltypes td {  color: #FFFFFF;  line-height: 6px;  padding: 0 0.5em;}\n",
       ".datatable .bool    { background: #DDDD99; }\n",
       ".datatable .object  { background: #565656; }\n",
       ".datatable .int     { background: #5D9E5D; }\n",
       ".datatable .float   { background: #4040CC; }\n",
       ".datatable .str     { background: #CC4040; }\n",
       ".datatable .time    { background: #40CC40; }\n",
       ".datatable .row_index {  background: var(--jp-border-color3);  border-right: 1px solid var(--jp-border-color0);  color: var(--jp-ui-font-color3);  font-size: 9px;}\n",
       ".datatable .frame tbody td { text-align: left; }\n",
       ".datatable .frame tr.coltypes .row_index {  background: var(--jp-border-color0);}\n",
       ".datatable th:nth-child(2) { padding-left: 12px; }\n",
       ".datatable .hellipsis {  color: var(--jp-cell-editor-border-color);}\n",
       ".datatable .vellipsis {  background: var(--jp-layout-color0);  color: var(--jp-cell-editor-border-color);}\n",
       ".datatable .na {  color: var(--jp-cell-editor-border-color);  font-size: 80%;}\n",
       ".datatable .sp {  opacity: 0.25;}\n",
       ".datatable .footer { font-size: 9px; }\n",
       ".datatable .frame_dimensions {  background: var(--jp-border-color3);  border-top: 1px solid var(--jp-border-color0);  color: var(--jp-ui-font-color3);  display: inline-block;  opacity: 0.6;  padding: 1px 10px 1px 5px;}\n",
       "</style>\n"
      ],
      "text/plain": [
       "<IPython.core.display.HTML object>"
      ]
     },
     "metadata": {},
     "output_type": "display_data"
    }
   ],
   "source": [
    "import datatable as dt"
   ]
  },
  {
   "cell_type": "code",
   "execution_count": null,
   "id": "91b0ff53",
   "metadata": {},
   "outputs": [],
   "source": [
    "data = dt.fread('C://Users//Aluno//Desktop//amex//test_data.csv')"
   ]
  },
  {
   "cell_type": "code",
   "execution_count": 15,
   "id": "f49e9027",
   "metadata": {},
   "outputs": [
    {
     "name": "stdout",
     "output_type": "stream",
     "text": [
      "test size: (11363762, 190)\n",
      "ERROR! Session/line number was not unique in database. History logging moved to new session 306\n"
     ]
    }
   ],
   "source": [
    "print('test size:', data.shape)"
   ]
  },
  {
   "cell_type": "code",
   "execution_count": 16,
   "id": "8c3a909e",
   "metadata": {},
   "outputs": [
    {
     "data": {
      "text/html": [
       "<div class='datatable'>\n",
       "  <table class='frame'>\n",
       "  <thead>\n",
       "    <tr class='colnames'><td class='row_index'></td><th>customer_ID</th><th>S_2</th><th>P_2</th><th>D_39</th><th>B_1</th><th>B_2</th><th>R_1</th><th>S_3</th><th>D_41</th><th>B_3</th><th class='vellipsis'>&hellip;</th><th>D_141</th><th>D_142</th><th>D_143</th><th>D_144</th><th>D_145</th></tr>\n",
       "    <tr class='coltypes'><td class='row_index'></td><td class='str' title='str32'>&#x25AA;&#x25AA;&#x25AA;&#x25AA;</td><td class='time' title='date32'>&#x25AA;&#x25AA;&#x25AA;&#x25AA;</td><td class='float' title='float64'>&#x25AA;&#x25AA;&#x25AA;&#x25AA;&#x25AA;&#x25AA;&#x25AA;&#x25AA;</td><td class='float' title='float64'>&#x25AA;&#x25AA;&#x25AA;&#x25AA;&#x25AA;&#x25AA;&#x25AA;&#x25AA;</td><td class='float' title='float64'>&#x25AA;&#x25AA;&#x25AA;&#x25AA;&#x25AA;&#x25AA;&#x25AA;&#x25AA;</td><td class='float' title='float64'>&#x25AA;&#x25AA;&#x25AA;&#x25AA;&#x25AA;&#x25AA;&#x25AA;&#x25AA;</td><td class='float' title='float64'>&#x25AA;&#x25AA;&#x25AA;&#x25AA;&#x25AA;&#x25AA;&#x25AA;&#x25AA;</td><td class='float' title='float64'>&#x25AA;&#x25AA;&#x25AA;&#x25AA;&#x25AA;&#x25AA;&#x25AA;&#x25AA;</td><td class='float' title='float64'>&#x25AA;&#x25AA;&#x25AA;&#x25AA;&#x25AA;&#x25AA;&#x25AA;&#x25AA;</td><td class='float' title='float64'>&#x25AA;&#x25AA;&#x25AA;&#x25AA;&#x25AA;&#x25AA;&#x25AA;&#x25AA;</td><td></td><td class='float' title='float64'>&#x25AA;&#x25AA;&#x25AA;&#x25AA;&#x25AA;&#x25AA;&#x25AA;&#x25AA;</td><td class='float' title='float64'>&#x25AA;&#x25AA;&#x25AA;&#x25AA;&#x25AA;&#x25AA;&#x25AA;&#x25AA;</td><td class='float' title='float64'>&#x25AA;&#x25AA;&#x25AA;&#x25AA;&#x25AA;&#x25AA;&#x25AA;&#x25AA;</td><td class='float' title='float64'>&#x25AA;&#x25AA;&#x25AA;&#x25AA;&#x25AA;&#x25AA;&#x25AA;&#x25AA;</td><td class='float' title='float64'>&#x25AA;&#x25AA;&#x25AA;&#x25AA;&#x25AA;&#x25AA;&#x25AA;&#x25AA;</td></tr>\n",
       "  </thead>\n",
       "  <tbody>\n",
       "    <tr><td class='row_index'>0</td><td>00000469ba478561f23a92a868bd366de6f6527a684c9a2e78&#133;</td><td>2019-02-19</td><td>0.631315</td><td>0.00191178</td><td>0.0107281</td><td>0.814497</td><td>0.0075469</td><td>0.168651</td><td>0.00997145</td><td>0.00234699</td><td class=vellipsis>&hellip;</td><td><span class=na>NA</span></td><td><span class=na>NA</span></td><td><span class=na>NA</span></td><td>0.00828072</td><td><span class=na>NA</span></td></tr>\n",
       "    <tr><td class='row_index'>1</td><td>00000469ba478561f23a92a868bd366de6f6527a684c9a2e78&#133;</td><td>2019-03-25</td><td>0.587042</td><td>0.00527516</td><td>0.0110264</td><td>0.810848</td><td>0.00181713</td><td>0.241389</td><td>0.000165841</td><td>0.00913184</td><td class=vellipsis>&hellip;</td><td>0.00902138</td><td><span class=na>NA</span></td><td>0.00369527</td><td>0.00375294</td><td>0.00145997</td></tr>\n",
       "    <tr><td class='row_index'>2</td><td>00000469ba478561f23a92a868bd366de6f6527a684c9a2e78&#133;</td><td>2019-04-25</td><td>0.609056</td><td>0.00332555</td><td>0.01639</td><td>1.00462</td><td>0.000113852</td><td>0.266976</td><td>0.00419608</td><td>0.00419151</td><td class=vellipsis>&hellip;</td><td>0.00465631</td><td><span class=na>NA</span></td><td>0.00315485</td><td>0.00215625</td><td>0.00648238</td></tr>\n",
       "    <tr><td class='row_index'>3</td><td>00000469ba478561f23a92a868bd366de6f6527a684c9a2e78&#133;</td><td>2019-05-20</td><td>0.614911</td><td>0.00906464</td><td>0.0216719</td><td>0.816549</td><td>0.00972198</td><td>0.188947</td><td>0.00412326</td><td>0.0153252</td><td class=vellipsis>&hellip;</td><td>0.00288986</td><td><span class=na>NA</span></td><td>0.00604431</td><td>0.005206</td><td>0.00785464</td></tr>\n",
       "    <tr><td class='row_index'>4</td><td>00000469ba478561f23a92a868bd366de6f6527a684c9a2e78&#133;</td><td>2019-06-15</td><td>0.591673</td><td>0.238794</td><td>0.015923</td><td>0.810456</td><td>0.00202622</td><td>0.180035</td><td>0.000731459</td><td>0.0112807</td><td class=vellipsis>&hellip;</td><td>0.00838387</td><td><span class=na>NA</span></td><td>0.00100842</td><td>0.00742096</td><td>0.0094708</td></tr>\n",
       "    <tr><td class='row_index'>5</td><td>00000469ba478561f23a92a868bd366de6f6527a684c9a2e78&#133;</td><td>2019-07-13</td><td>0.587472</td><td>0.00582699</td><td>0.00795853</td><td>1.00101</td><td>0.0088142</td><td>0.173701</td><td>0.000652575</td><td>0.00977907</td><td class=vellipsis>&hellip;</td><td>0.00553016</td><td><span class=na>NA</span></td><td>0.00987031</td><td>0.00966677</td><td>0.00539826</td></tr>\n",
       "    <tr><td class='row_index'>6</td><td>00000469ba478561f23a92a868bd366de6f6527a684c9a2e78&#133;</td><td>2019-08-16</td><td>0.625006</td><td>0.238704</td><td>0.0134203</td><td>0.816605</td><td>0.00984922</td><td>0.170644</td><td>0.00249526</td><td>0.0199991</td><td class=vellipsis>&hellip;</td><td>0.00541041</td><td><span class=na>NA</span></td><td>0.00676178</td><td>0.00566411</td><td>0.00262663</td></tr>\n",
       "    <tr><td class='row_index'>7</td><td>00000469ba478561f23a92a868bd366de6f6527a684c9a2e78&#133;</td><td>2019-09-29</td><td>0.597074</td><td>0.00353726</td><td>0.0174255</td><td>1.00067</td><td>0.00514344</td><td>0.158006</td><td>0.00098511</td><td>0.0119622</td><td class=vellipsis>&hellip;</td><td>0.0028215</td><td><span class=na>NA</span></td><td>0.00414124</td><td>0.0057335</td><td>0.00565663</td></tr>\n",
       "    <tr><td class='row_index'>8</td><td>00000469ba478561f23a92a868bd366de6f6527a684c9a2e78&#133;</td><td>2019-10-12</td><td>0.56893</td><td>0.121385</td><td>0.0107788</td><td>1.00935</td><td>0.00692349</td><td>0.149413</td><td>0.000395716</td><td>0.0035757</td><td class=vellipsis>&hellip;</td><td>0.00654337</td><td><span class=na>NA</span></td><td>0.00916013</td><td>0.00368985</td><td>0.00321925</td></tr>\n",
       "    <tr><td class='row_index'>9</td><td>00001bf2e77ff879fab36aa4fac689b9ba411dae63ae397d42&#133;</td><td>2018-04-22</td><td>0.894195</td><td>0.325657</td><td>0.0209698</td><td>1.0018</td><td>0.00512502</td><td>0.0732426</td><td>0.00534696</td><td>0.00159683</td><td class=vellipsis>&hellip;</td><td>0.00953494</td><td><span class=na>NA</span></td><td>0.00396448</td><td>0.00843567</td><td>0.00832301</td></tr>\n",
       "  </tbody>\n",
       "  </table>\n",
       "  <div class='footer'>\n",
       "    <div class='frame_dimensions'>10 rows &times; 190 columns</div>\n",
       "  </div>\n",
       "</div>\n"
      ],
      "text/plain": [
       "<Frame#25803c1d6c0 10x190>"
      ]
     },
     "execution_count": 16,
     "metadata": {},
     "output_type": "execute_result"
    }
   ],
   "source": [
    "data.head()"
   ]
  }
 ],
 "metadata": {
  "kernelspec": {
   "display_name": "Python 3 (ipykernel)",
   "language": "python",
   "name": "python3"
  },
  "language_info": {
   "codemirror_mode": {
    "name": "ipython",
    "version": 3
   },
   "file_extension": ".py",
   "mimetype": "text/x-python",
   "name": "python",
   "nbconvert_exporter": "python",
   "pygments_lexer": "ipython3",
   "version": "3.9.12"
  }
 },
 "nbformat": 4,
 "nbformat_minor": 5
}
